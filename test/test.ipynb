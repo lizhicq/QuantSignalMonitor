{
 "cells": [
  {
   "cell_type": "code",
   "execution_count": null,
   "metadata": {},
   "outputs": [],
   "source": [
    "import sys\n",
    "sys.path.append('/Users/lizhicq/GitHub/QuantSignalMonitor/')"
   ]
  },
  {
   "cell_type": "code",
   "execution_count": 2,
   "metadata": {},
   "outputs": [],
   "source": [
    "import pandas as pd \n",
    "import json\n",
    "from config.data_config import DATA_PATH_CONFIG\n",
    "sample = '/Users/lizhicq/GitHub/QuantSignalMonitor/data/sample/fetch_single_stock_sample.json'\n",
    "\n",
    "with open(sample, 'r') as file:\n",
    "    data = json.load(file)\n",
    "\n",
    "df = pd.DataFrame(data['Klineresult'])"
   ]
  },
  {
   "cell_type": "code",
   "execution_count": 52,
   "metadata": {},
   "outputs": [
    {
     "name": "stdout",
     "output_type": "stream",
     "text": [
      "    Open   High    Low  Volume   Amount  Close        time\n",
      "0  33.00  33.16  33.00    1947  6434092  33.13  1718933400\n",
      "1  33.12  33.12  33.06     393  1300913  33.09  1718933460\n",
      "2  33.09  33.09  33.01     415  1371239  33.01  1718933520\n",
      "3  33.01  33.05  33.01     451  1489411  33.02  1718933580\n",
      "4  33.04  33.05  33.02     431  1423988  33.05  1718933640\n"
     ]
    }
   ],
   "source": [
    "print(df)"
   ]
  },
  {
   "cell_type": "code",
   "execution_count": 62,
   "metadata": {},
   "outputs": [
    {
     "name": "stdout",
     "output_type": "stream",
     "text": [
      "running_low=33.0, high=33.16, price_surge=0.004848484848484745\n",
      "running_low=33.0, high=33.12, price_surge=0.004848484848484745\n",
      "running_low=33.0, high=33.09, price_surge=0.004848484848484745\n",
      "running_low=33.0, high=33.05, price_surge=0.004848484848484745\n",
      "running_low=33.0, high=33.05, price_surge=0.004848484848484745\n",
      "0.004848484848484745\n"
     ]
    }
   ],
   "source": [
    "running_low = float('inf')\n",
    "price_surge = 0\n",
    "for _, row in df.iterrows():\n",
    "    running_low = min(running_low, row['Low'])\n",
    "    price_surge = max((row['High']-running_low)/running_low, price_surge)\n",
    "    print(f\"running_low={running_low}, high={row['High']}, price_surge={price_surge}\")\n",
    "print(price_surge)"
   ]
  },
  {
   "cell_type": "code",
   "execution_count": 6,
   "metadata": {},
   "outputs": [
    {
     "data": {
      "text/plain": [
       "33.0"
      ]
     },
     "execution_count": 6,
     "metadata": {},
     "output_type": "execute_result"
    }
   ],
   "source": [
    "results.append({\n",
    "'StockId': stock_id,\n",
    "'StockName': stock.name,\n",
    "'TotalAmount': total_amount,# 成交金额（Total Amount） - 10分钟内所有交易的成交金额总和。\n",
    "'PriceIncrease': price_increase,# 涨幅（Price Increase） - 当天开盘价\n",
    "'IntervalPriceIncrease': interval_price_increase,# 区间收盘到开盘\n",
    "'StatisticalInterval': statistical_interval, # 统计区间（Statistical Interval） - 选择的10分钟内数据点的时间范围。\n",
    "'PriceSurge': price_surge # 拉升幅度（Price Surge） - 最低价到最高价的涨幅比例。\n",
    "})"
   ]
  },
  {
   "cell_type": "code",
   "execution_count": 18,
   "metadata": {},
   "outputs": [
    {
     "name": "stdout",
     "output_type": "stream",
     "text": [
      "1718933520.0\n",
      "time.struct_time(tm_year=2024, tm_mon=6, tm_mday=21, tm_hour=9, tm_min=32, tm_sec=0, tm_wday=4, tm_yday=173, tm_isdst=0)\n",
      "09:32\n"
     ]
    }
   ],
   "source": [
    "start = df.iloc[-3]['time']\n",
    "print(start)\n",
    "import time\n",
    "time_struct = time.localtime(start)\n",
    "print(time_struct)\n",
    "print(time.strftime(\"%H:%M\", time_struct))"
   ]
  },
  {
   "cell_type": "code",
   "execution_count": 21,
   "metadata": {},
   "outputs": [
    {
     "name": "stdout",
     "output_type": "stream",
     "text": [
      "Item: item2, Amount of last 3 minutes: 120\n",
      "Item: item4, Amount of last 3 minutes: 60\n"
     ]
    }
   ],
   "source": [
    "import heapq\n",
    "\n",
    "class PoolItem:\n",
    "    def __init__(self, name, amounts):\n",
    "        self.name = name\n",
    "        self.amounts = amounts  # List of amounts, each entry represents one minute\n",
    "\n",
    "    def get_amt_of_last_n_minutes(self, n):\n",
    "        # Sum the amounts of the last n minutes\n",
    "        return sum(self.amounts[-n:])\n",
    "\n",
    "class Example:\n",
    "    def __init__(self):\n",
    "        self.total_pool = {\n",
    "            'item1': PoolItem('item1', [1, 2, 3, 4, 5]),\n",
    "            'item2': PoolItem('item2', [10, 20, 30, 40, 50]),\n",
    "            'item3': PoolItem('item3', [2, 4, 6, 8, 10]),\n",
    "            'item4': PoolItem('item4', [5, 10, 15, 20, 25]),\n",
    "        }\n",
    "\n",
    "    def get_top_m_items(self, m, n):\n",
    "        return heapq.nlargest(\n",
    "            m,\n",
    "            self.total_pool.items(),\n",
    "            key=lambda item: item[1].get_amt_of_last_n_minutes(n)\n",
    "        )\n",
    "\n",
    "# Instantiate Example class\n",
    "example = Example()\n",
    "\n",
    "# Parameters\n",
    "m = 2  # Number of top items to find\n",
    "n = 3  # Number of last minutes to consider\n",
    "\n",
    "# Get top m items\n",
    "top_items = example.get_top_m_items(m, n)\n",
    "\n",
    "# Print the results\n",
    "for item_name, pool_item in top_items:\n",
    "    print(f\"Item: {item_name}, Amount of last {n} minutes: {pool_item.get_amt_of_last_n_minutes(n)}\")\n"
   ]
  },
  {
   "cell_type": "code",
   "execution_count": 23,
   "metadata": {},
   "outputs": [
    {
     "name": "stdout",
     "output_type": "stream",
     "text": [
      "[{\"name\":\"Alice\",\"age\":25,\"city\":\"New York\"},{\"name\":\"Bob\",\"age\":30,\"city\":\"Los Angeles\"},{\"name\":\"Charlie\",\"age\":35,\"city\":\"Chicago\"}]\n"
     ]
    }
   ],
   "source": [
    "import pandas as pd\n",
    "\n",
    "# Sample DataFrame\n",
    "data = {\n",
    "    'name': ['Alice', 'Bob', 'Charlie'],\n",
    "    'age': [25, 30, 35],\n",
    "    'city': ['New York', 'Los Angeles', 'Chicago']\n",
    "}\n",
    "df = pd.DataFrame(data)\n",
    "\n",
    "# Convert DataFrame to JSON\n",
    "json_data = df.to_json(orient='records')\n",
    "\n",
    "# Print JSON data\n",
    "print(json_data)\n"
   ]
  },
  {
   "cell_type": "code",
   "execution_count": 30,
   "metadata": {},
   "outputs": [
    {
     "ename": "TypeError",
     "evalue": "'dict' object is not callable",
     "output_type": "error",
     "traceback": [
      "\u001b[0;31m---------------------------------------------------------------------------\u001b[0m",
      "\u001b[0;31mTypeError\u001b[0m                                 Traceback (most recent call last)",
      "Cell \u001b[0;32mIn[30], line 2\u001b[0m\n\u001b[1;32m      1\u001b[0m test \u001b[38;5;241m=\u001b[39m [\u001b[38;5;124m'\u001b[39m\u001b[38;5;124mname\u001b[39m\u001b[38;5;124m'\u001b[39m, \u001b[38;5;124m'\u001b[39m\u001b[38;5;124mcity\u001b[39m\u001b[38;5;124m'\u001b[39m]\n\u001b[0;32m----> 2\u001b[0m \u001b[38;5;28;01mfor\u001b[39;00m j,i \u001b[38;5;129;01min\u001b[39;00m \u001b[38;5;28mmap\u001b[39m(data, test):\n\u001b[1;32m      3\u001b[0m     \u001b[38;5;28mprint\u001b[39m(i)\n",
      "\u001b[0;31mTypeError\u001b[0m: 'dict' object is not callable"
     ]
    }
   ],
   "source": [
    "test = ['name', 'city']\n",
    "for j,i in map(data, test):\n",
    "    print(i)"
   ]
  }
 ],
 "metadata": {
  "kernelspec": {
   "display_name": "QuantSignal",
   "language": "python",
   "name": "python3"
  },
  "language_info": {
   "codemirror_mode": {
    "name": "ipython",
    "version": 3
   },
   "file_extension": ".py",
   "mimetype": "text/x-python",
   "name": "python",
   "nbconvert_exporter": "python",
   "pygments_lexer": "ipython3",
   "version": "3.11.5"
  }
 },
 "nbformat": 4,
 "nbformat_minor": 2
}
